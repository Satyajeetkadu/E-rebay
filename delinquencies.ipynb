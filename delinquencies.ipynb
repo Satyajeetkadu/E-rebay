{
 "cells": [
  {
   "cell_type": "code",
   "execution_count": 1,
   "metadata": {},
   "outputs": [],
   "source": [
    "import PyPDF2\n",
    "import re"
   ]
  },
  {
   "cell_type": "code",
   "execution_count": 2,
   "metadata": {},
   "outputs": [],
   "source": [
    "def get_index(firstIndex,string):\n",
    "    return int(firstIndex)+int(len(string))"
   ]
  },
  {
   "cell_type": "code",
   "execution_count": 3,
   "metadata": {},
   "outputs": [
    {
     "name": "stdout",
     "output_type": "stream",
     "text": [
      "19\n",
      "812065\n",
      "812065\n",
      "812065\n",
      "812065\n",
      "812065\n",
      "812065\n",
      "812065\n",
      "812065\n",
      "812065\n",
      "812065\n",
      "812065\n",
      "812065\n",
      "812065\n",
      "812065\n",
      "812065\n",
      "812065\n",
      "812065\n",
      "812065\n",
      "812065\n"
     ]
    }
   ],
   "source": [
    "pdfFileObj = open(\"/Users/nilaygaitonde/Downloads/Abaji anandrao jadhav cibill report.pdf\", 'rb')\n",
    "complete_String = \"\"\n",
    "pdfReader = PyPDF2.PdfFileReader(pdfFileObj)\n",
    "for i in range(pdfReader.numPages):\n",
    "    pageObj = pdfReader.getPage(i).extract_text()\n",
    "    complete_String += pageObj\n",
    "countAcc = complete_String.count(\"Acct # :\")\n",
    "print(countAcc)\n",
    "for i in range(countAcc):\n",
    "    delinquecy = False\n",
    "    accountNoIndex = complete_String.find(\"Acct # :\")\n",
    "    text = complete_String[accountNoIndex+1:]\n",
    "    BalanceIndex = get_index(text.find('Balance: '),'Balance: ')\n",
    "    Balance = text[BalanceIndex:(text.find('Open:'))]\n",
    "    try:\n",
    "        if(Balance[0] == \"R\"):\n",
    "            Balance = Balance[4:]\n",
    "        elif(Balance == \"\"):\n",
    "            Balance = 0\n",
    "        try:\n",
    "            Balance = int(Balance.replace(',',''))\n",
    "        except ValueError:\n",
    "            Balance = 0\n",
    "    except IndexError:\n",
    "        Balance = 0\n",
    "    print(Balance)\n",
    "    # delinquenciesIndex = get_index(text.find(\"Suit Filed Status:\"),\"Suit Filed Status:\")\n",
    "    # if(text[delinquenciesIndex+1].strip() == \"H\"):\n",
    "    #     delinquencyString = text[(delinquenciesIndex+len(\"HistoryAccount Status:Asset Classification:Suit Filed Status:\")+4):(text.find(\"Acct # :\"))]\n",
    "    #     # print(delinquencyString)\n",
    "    #     # Get all index of string \"-22\" is present in the delinquency string\n",
    "    #     index = [m.start() for m in re.finditer('-22', delinquencyString)]\n",
    "    #     # print(index)"
   ]
  },
  {
   "cell_type": "code",
   "execution_count": 4,
   "metadata": {},
   "outputs": [
    {
     "ename": "IndexError",
     "evalue": "list index out of range",
     "output_type": "error",
     "traceback": [
      "\u001b[0;31m---------------------------------------------------------------------------\u001b[0m",
      "\u001b[0;31mIndexError\u001b[0m                                Traceback (most recent call last)",
      "Cell \u001b[0;32mIn[4], line 2\u001b[0m\n\u001b[1;32m      1\u001b[0m r\u001b[39m=\u001b[39m[\u001b[39m0\u001b[39m,\u001b[39m1\u001b[39m,\u001b[39m2\u001b[39m,\u001b[39m3\u001b[39m]\n\u001b[0;32m----> 2\u001b[0m r[\u001b[39m9\u001b[39;49m]\n",
      "\u001b[0;31mIndexError\u001b[0m: list index out of range"
     ]
    }
   ],
   "source": [
    "r=[0,1,2,3]\n",
    "r[0:3]"
   ]
  }
 ],
 "metadata": {
  "kernelspec": {
   "display_name": "Automation",
   "language": "python",
   "name": "python3"
  },
  "language_info": {
   "codemirror_mode": {
    "name": "ipython",
    "version": 3
   },
   "file_extension": ".py",
   "mimetype": "text/x-python",
   "name": "python",
   "nbconvert_exporter": "python",
   "pygments_lexer": "ipython3",
   "version": "3.9.15 (main, Nov 24 2022, 08:29:02) \n[Clang 14.0.6 ]"
  },
  "orig_nbformat": 4,
  "vscode": {
   "interpreter": {
    "hash": "5c9d2df7a0fd9f7ead196cf808e359ff77717282d94b5e44178885e958ad6d29"
   }
  }
 },
 "nbformat": 4,
 "nbformat_minor": 2
}
